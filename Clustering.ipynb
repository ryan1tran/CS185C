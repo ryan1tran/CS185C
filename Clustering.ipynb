{
 "cells": [
  {
   "cell_type": "code",
   "execution_count": 1,
   "metadata": {},
   "outputs": [],
   "source": [
    "import os\n",
    "import re\n",
    "import numpy as np\n",
    "import matplotlib.pyplot as plt\n",
    "from mpl_toolkits.mplot3d import Axes3D\n",
    "from sklearn.neighbors import KNeighborsClassifier, KNeighborsRegressor\n",
    "from sklearn.ensemble import RandomForestClassifier, RandomForestRegressor\n",
    "from sklearn.cluster import KMeans\n",
    "from sklearn import metrics\n",
    "from sklearn import preprocessing\n",
    "\n",
    "from sklearn import tree"
   ]
  },
  {
   "cell_type": "code",
   "execution_count": 2,
   "metadata": {},
   "outputs": [],
   "source": [
    "directory = \"C:\\\\Users\\\\Michael\\\\Desktop\\\\CS 185C\\\\Malware\\\\\"\n",
    "cluster_folder = directory + \"clustering\\\\\"\n",
    "max_samples = 53"
   ]
  },
  {
   "cell_type": "code",
   "execution_count": 3,
   "metadata": {},
   "outputs": [],
   "source": [
    "def load_samples(file, max_lines):\n",
    "    file = open(file, 'r')\n",
    "    samples = []\n",
    "    num_lines = 0;\n",
    "    for line in file.readlines():\n",
    "        if num_lines == max_lines:\n",
    "            break;\n",
    "        num_lines += 1\n",
    "        numbers = np.array(list(map(lambda x : float(x), line.split(\",\"))))\n",
    "        samples.append(numbers)\n",
    "    file.close()\n",
    "    return np.array(samples)"
   ]
  },
  {
   "cell_type": "code",
   "execution_count": 4,
   "metadata": {},
   "outputs": [],
   "source": [
    "def split_samples(array, split):\n",
    "    return array[:,:split], array[:,split:]"
   ]
  },
  {
   "cell_type": "code",
   "execution_count": 5,
   "metadata": {},
   "outputs": [],
   "source": [
    "def combine_all(array):\n",
    "    temp = []\n",
    "    for a in array:\n",
    "        temp += list(a)\n",
    "    return np.array(temp)"
   ]
  },
  {
   "cell_type": "code",
   "execution_count": 6,
   "metadata": {},
   "outputs": [],
   "source": [
    "def round_scores(scores):\n",
    "    return [int(round(num)) for num in scores]"
   ]
  },
  {
   "cell_type": "code",
   "execution_count": 7,
   "metadata": {},
   "outputs": [],
   "source": [
    "def run_knn(train_x, train_y, test_x, num_families):\n",
    "    knn = KNeighborsClassifier(n_neighbors=num_families, weights='distance')\n",
    "    knn.fit(train_x, train_y)\n",
    "    return knn.predict(train_x), knn.predict(test_x)"
   ]
  },
  {
   "cell_type": "code",
   "execution_count": 8,
   "metadata": {},
   "outputs": [],
   "source": [
    "def run_kmeans(test_x, test_y,num_families):\n",
    "    kmeans = KMeans(n_clusters=num_families, algorithm='auto', max_iter=20000, tol=1e-02)\n",
    "    km_out = kmeans.fit_predict(test_x)\n",
    "    print(km_out)\n",
    "    return metrics.accuracy_score(test_y, round_scores(km_out))"
   ]
  },
  {
   "cell_type": "code",
   "execution_count": 9,
   "metadata": {},
   "outputs": [],
   "source": [
    "def run_random_forest(train_x, train_y, test_x, n, default):\n",
    "    if default == True:\n",
    "        rf = RandomForestRegressor(n_estimators=n)\n",
    "    else:\n",
    "        rf = RandomForestRegressor(n_estimators=n, criterion='entropy', min_samples_split=10, min_samples_leaf=2)\n",
    "    rf.fit(train_x, train_y)\n",
    "    return rf.predict(train_x), rf.predict(test_x)\n"
   ]
  },
  {
   "cell_type": "code",
   "execution_count": 10,
   "metadata": {},
   "outputs": [],
   "source": [
    "def run_random_forest_regressor(train_x, train_y, test_x, n, default):\n",
    "    if default == True:\n",
    "        rf = RandomForestClassifier(n_estimators=n)\n",
    "    else:\n",
    "        rf = RandomForestClassifier(n_estimators=n, min_samples_split=10, min_samples_leaf=2)\n",
    "    rf.fit(train_x, train_y)\n",
    "    #print(rf.predict(test_x))\n",
    "    return rf.predict(train_x), rf.predict(test_x)\n"
   ]
  },
  {
   "cell_type": "code",
   "execution_count": 11,
   "metadata": {},
   "outputs": [],
   "source": [
    "def subtract_lists(a, b):\n",
    "    difference = []\n",
    "    for element in a:\n",
    "        if element not in b:\n",
    "            difference.append(element)\n",
    "    return difference"
   ]
  },
  {
   "cell_type": "code",
   "execution_count": 12,
   "metadata": {},
   "outputs": [],
   "source": [
    "def get_samples(families_to_remove, features_to_remove):\n",
    "    all_families = [\"harebot\", \"cridex\", \"securityShield\", \"smarthdd\", \"zbot\", \"winwebsec\", \"zeroaccess\"]\n",
    "    families = subtract_lists(all_families, np.array(all_families)[families_to_remove])\n",
    "    #families = list(set(all_families) - set(np.array(all_families)[families_to_remove]))\n",
    "    #print(families)\n",
    "\n",
    "    all_samples = []\n",
    "    all_labels = []\n",
    "\n",
    "    for family in families:\n",
    "        all_samples.append(load_samples(cluster_folder +\"input\\\\\"+ family + \" cluster.txt\", max_samples))\n",
    "    for i in range(len(families)):\n",
    "        labels = np.arange(max_samples)\n",
    "        #labels.fill(i - int(len(families)/2))\n",
    "        labels.fill(i)\n",
    "        all_labels.append(labels)\n",
    "\n",
    "    all_samples = np.array(all_samples)\n",
    "    if(features_to_remove != 0):\n",
    "        all_samples = all_samples[::,::,:-features_to_remove]\n",
    "    all_labels = np.array(all_labels)\n",
    "    \n",
    "    #print(\"shape: \", all_samples.shape)\n",
    "    \n",
    "    train_x, test_x = split_samples(all_samples, 42)\n",
    "    train_x, test_x = combine_all(train_x), combine_all(test_x)\n",
    "\n",
    "    train_y, test_y = split_samples(all_labels, 42)\n",
    "    train_y, test_y = combine_all(train_y), combine_all(test_y)\n",
    "    return train_x, train_y, test_x, test_y, len(families)"
   ]
  },
  {
   "cell_type": "code",
   "execution_count": 31,
   "metadata": {},
   "outputs": [
    {
     "name": "stdout",
     "output_type": "stream",
     "text": [
      "7\n",
      "0.7662337662337663\n",
      "0.7662337662337663\n",
      "0.7142857142857143\n",
      "0.7532467532467533\n",
      "0.7662337662337663\n",
      "0.7922077922077922\n",
      "0.7402597402597403\n",
      "0.7272727272727273\n",
      "0.7012987012987013\n",
      "0.7142857142857143\n",
      "0.7402597402597403\n",
      "0.7532467532467533\n",
      "0.7402597402597403\n",
      "0.7402597402597403\n",
      "0.7012987012987013\n",
      "0.7402597402597403\n",
      "0.7272727272727273\n",
      "0.7142857142857143\n",
      "0.7402597402597403\n",
      "0.7272727272727273\n",
      "0.7142857142857143\n",
      "0.7272727272727273\n",
      "0.7402597402597403\n",
      "0.7272727272727273\n",
      "0.7272727272727273\n",
      "0.7402597402597403\n",
      "0.7402597402597403\n",
      "0.7792207792207793\n",
      "0.7402597402597403\n",
      "0.7142857142857143\n",
      "0.7272727272727273\n",
      "0.7012987012987013\n",
      "0.7142857142857143\n",
      "0.7142857142857143\n",
      "0.7272727272727273\n",
      "0.7402597402597403\n",
      "0.7272727272727273\n",
      "0.7402597402597403\n"
     ]
    }
   ],
   "source": [
    "families_to_remove = []\n",
    "train_x, train_y, test_x, test_y, num_families = get_samples(families_to_remove, 0)\n",
    "x = []\n",
    "y = []\n",
    "print(num_families)\n",
    "for i in range(10, 200,5):\n",
    "    rf_pred = run_random_forest_regressor(train_x, train_y, test_x, i, True)#(train, test)\n",
    "    knn_pred = run_knn(train_x, train_y, test_x, num_families)\n",
    "    print(metrics.accuracy_score(test_y, rf_pred[1]))\n",
    "    x.append(i)\n",
    "    y.append(metrics.accuracy_score(test_y, rf_pred[1]))"
   ]
  },
  {
   "cell_type": "code",
   "execution_count": 33,
   "metadata": {},
   "outputs": [
    {
     "data": {
      "image/png": "[encoded data removed]",
      "text/plain": [
       "<Figure size 432x288 with 1 Axes>"
      ]
     },
     "metadata": {
      "needs_background": "light"
     },
     "output_type": "display_data"
    }
   ],
   "source": [
    "plt.plot(x, y)\n",
    "plt.ylabel('accuracy')\n",
    "plt.xlabel('estimators')\n",
    "plt.title(\"{} Families - Random Forest\".format(7))\n",
    "plt.show()"
   ]
  },
  {
   "cell_type": "code",
   "execution_count": 35,
   "metadata": {},
   "outputs": [
    {
     "name": "stdout",
     "output_type": "stream",
     "text": [
      "4\n",
      "7 0.9772727272727273\n",
      "4\n",
      "6 0.9545454545454546\n",
      "4\n",
      "5 1.0\n",
      "4\n",
      "4 0.9772727272727273\n",
      "4\n",
      "3 0.9318181818181818\n",
      "5\n",
      "7 0.8727272727272727\n",
      "5\n",
      "6 0.8545454545454545\n",
      "5\n",
      "5 0.8727272727272727\n",
      "5\n",
      "4 0.8363636363636363\n",
      "5\n",
      "3 0.8181818181818182\n",
      "6\n",
      "7 0.8636363636363636\n",
      "6\n",
      "6 0.7878787878787878\n",
      "6\n",
      "5 0.8181818181818182\n",
      "6\n",
      "4 0.7878787878787878\n",
      "6\n",
      "3 0.7727272727272727\n",
      "7\n",
      "7 0.7532467532467533\n",
      "7\n",
      "6 0.7402597402597403\n",
      "7\n",
      "5 0.7402597402597403\n",
      "7\n",
      "4 0.7532467532467533\n",
      "7\n",
      "3 0.7142857142857143\n"
     ]
    },
    {
     "ename": "IndexError",
     "evalue": "pop from empty list",
     "output_type": "error",
     "traceback": [
      "\u001b[1;31m---------------------------------------------------------------------------\u001b[0m",
      "\u001b[1;31mIndexError\u001b[0m                                Traceback (most recent call last)",
      "\u001b[1;32m<ipython-input-35-f88b95ff1cd9>\u001b[0m in \u001b[0;36m<module>\u001b[1;34m\u001b[0m\n\u001b[0;32m     10\u001b[0m         \u001b[0mscores\u001b[0m\u001b[1;33m[\u001b[0m\u001b[0mi\u001b[0m\u001b[1;33m]\u001b[0m\u001b[1;33m.\u001b[0m\u001b[0mappend\u001b[0m\u001b[1;33m(\u001b[0m\u001b[0mscore\u001b[0m\u001b[1;33m)\u001b[0m\u001b[1;33m\u001b[0m\u001b[1;33m\u001b[0m\u001b[0m\n\u001b[0;32m     11\u001b[0m         \u001b[0mprint\u001b[0m\u001b[1;33m(\u001b[0m\u001b[1;36m7\u001b[0m\u001b[1;33m-\u001b[0m\u001b[0mi\u001b[0m\u001b[1;33m,\u001b[0m \u001b[0mmetrics\u001b[0m\u001b[1;33m.\u001b[0m\u001b[0maccuracy_score\u001b[0m\u001b[1;33m(\u001b[0m\u001b[0mtest_y\u001b[0m\u001b[1;33m,\u001b[0m \u001b[0mrf_pred\u001b[0m\u001b[1;33m[\u001b[0m\u001b[1;36m1\u001b[0m\u001b[1;33m]\u001b[0m\u001b[1;33m)\u001b[0m\u001b[1;33m)\u001b[0m\u001b[1;33m\u001b[0m\u001b[1;33m\u001b[0m\u001b[0m\n\u001b[1;32m---> 12\u001b[1;33m     \u001b[0mfamilies_to_remove\u001b[0m\u001b[1;33m.\u001b[0m\u001b[0mpop\u001b[0m\u001b[1;33m(\u001b[0m\u001b[1;33m)\u001b[0m\u001b[1;33m\u001b[0m\u001b[1;33m\u001b[0m\u001b[0m\n\u001b[0m",
      "\u001b[1;31mIndexError\u001b[0m: pop from empty list"
     ]
    }
   ],
   "source": [
    "families_to_remove = [1,0,2]\n",
    "scores = [[], [], [], [], []]\n",
    "for remove in range(len(families_to_remove)+1):\n",
    "    for i in range(5):\n",
    "        train_x, train_y, test_x, test_y, num_families = get_samples(families_to_remove, i)\n",
    "        print(num_families)\n",
    "        rf_pred = run_random_forest_regressor(train_x, train_y, test_x, 50, True)#(train, test)\n",
    "        knn_pred = run_knn(train_x, train_y, test_x, num_families)\n",
    "        score = metrics.accuracy_score(test_y, rf_pred[1])\n",
    "        scores[i].append(score)\n",
    "        print(7-i, metrics.accuracy_score(test_y, rf_pred[1]))\n",
    "    families_to_remove.pop()"
   ]
  },
  {
   "cell_type": "code",
   "execution_count": 36,
   "metadata": {},
   "outputs": [
    {
     "name": "stdout",
     "output_type": "stream",
     "text": [
      "5&97.73\\%&87.27\\%&86.36\\%&75.32\\%&\n",
      "4&95.45\\%&85.45\\%&78.79\\%&74.03\\%&\n",
      "3&100.00\\%&87.27\\%&81.82\\%&74.03\\%&\n",
      "2&97.73\\%&83.64\\%&78.79\\%&75.32\\%&\n",
      "1&93.18\\%&81.82\\%&77.27\\%&71.43\\%&\n"
     ]
    }
   ],
   "source": [
    "i = 5\n",
    "for score_set in scores:\n",
    "    print(f\"{i}&\", end = \"\")\n",
    "    [print(\"{:0.2f}\\\\%&\".format(number*100), end=\"\") for number in score_set]\n",
    "    print()\n",
    "    i -= 1"
   ]
  },
  {
   "cell_type": "code",
   "execution_count": 37,
   "metadata": {},
   "outputs": [
    {
     "name": "stdout",
     "output_type": "stream",
     "text": [
      "2 2\n",
      "3,3\n",
      "2,2\n",
      "0,0\n",
      "0,0\n",
      "0,0\n",
      "0,0\n",
      "0,0\n",
      "3,0\n",
      "0,0\n",
      "3,3\n",
      "0,0\n",
      "1,1\n",
      "1,4\n",
      "1,1\n",
      "1,1\n",
      "1,0\n",
      "1,1\n",
      "1,1\n",
      "1,1\n",
      "1,1\n",
      "1,1\n",
      "1,1\n",
      "2,4\n",
      "2,2\n",
      "2,2\n",
      "2,2\n",
      "2,2\n",
      "2,3\n",
      "2,1\n",
      "2,2\n",
      "2,2\n",
      "2,2\n",
      "2,4\n",
      "3,3\n",
      "3,3\n",
      "3,3\n",
      "3,3\n",
      "3,3\n",
      "3,2\n",
      "0,4\n",
      "0,0\n",
      "0,0\n",
      "0,0\n",
      "3,3\n",
      "4,4\n",
      "4,4\n",
      "4,4\n",
      "4,4\n",
      "4,4\n",
      "4,1\n",
      "4,4\n",
      "4,1\n",
      "4,4\n",
      "4,4\n",
      "1,1\n"
     ]
    }
   ],
   "source": [
    "test = 0\n",
    "print(len(rf_pred), len(knn_pred))\n",
    "for i in range(len(rf_pred[1])):\n",
    "    print(\"{},{}\".format(rf_pred[1][i],knn_pred[1][i]))"
   ]
  },
  {
   "cell_type": "code",
   "execution_count": 15,
   "metadata": {},
   "outputs": [],
   "source": [
    "save_folder = cluster_folder\n",
    "test = open(save_folder + \"{} families test.txt\".format(num_families), 'w')\n",
    "train = open(save_folder + \"{} families train.txt\".format(num_families), 'w')\n",
    "\n",
    "for i in range(len(rf_pred[0])):\n",
    "    train.write(f\"{rf_pred[0][i]},{knn_pred[0][i]}\\n\")\n",
    "for i in range(len(rf_pred[1])):\n",
    "    test.write(f\"{rf_pred[1][i]},{knn_pred[1][i]}\\n\")\n",
    "\n",
    "test.close()\n",
    "train.close()\n"
   ]
  },
  {
   "cell_type": "code",
   "execution_count": 16,
   "metadata": {},
   "outputs": [
    {
     "data": {
      "text/plain": [
       "0.8333333333333334"
      ]
     },
     "execution_count": 16,
     "metadata": {},
     "output_type": "execute_result"
    }
   ],
   "source": [
    "metrics.accuracy_score(test_y, rf_pred[1])"
   ]
  },
  {
   "cell_type": "code",
   "execution_count": 459,
   "metadata": {},
   "outputs": [],
   "source": [
    "def normalize(samples):\n",
    "    transpose = np.transpose(samples)\n",
    "    scaled_inputs = []\n",
    "    for scores in transpose:\n",
    "        scaled_inputs.append(preprocessing.scale(scores))\n",
    "    return np.transpose(np.array(scaled_inputs))\n",
    "test_x_normalized = normalize(test_x)\n",
    "train_x_normalized = normalize(train_x)"
   ]
  },
  {
   "cell_type": "code",
   "execution_count": 466,
   "metadata": {},
   "outputs": [
    {
     "name": "stdout",
     "output_type": "stream",
     "text": [
      "[4 5 5 0 5 1 0 5 2 0 4 6 4 3 3 3 0 6 0 0 0 0 5 5 5 5 5 0 3 1 5 3 5 3 6 0 5\n",
      " 5 0 5 6 5 5 6 5 5 5 5 5 5 3 5 5 5 5 6 4 3 6 3 6 3 6 3 6 6 6 2 6 6 1 0 6 5\n",
      " 6 0 5]\n",
      "0.11688311688311688\n",
      "[0 0 0 0 0 0 0 0 0 0 0 1 1 1 1 1 1 1 1 1 1 1 2 2 2 2 2 2 2 2 2 2 2 3 3 3 3\n",
      " 3 3 3 3 3 3 3 4 4 4 4 4 4 4 4 4 4 4 5 5 5 5 5 5 5 5 5 5 5 6 6 6 6 6 6 6 6\n",
      " 6 6 6]\n"
     ]
    }
   ],
   "source": [
    "print(run_kmeans(test_x, test_y, num_families))\n",
    "print(test_y)"
   ]
  },
  {
   "cell_type": "code",
   "execution_count": 393,
   "metadata": {},
   "outputs": [
    {
     "name": "stdout",
     "output_type": "stream",
     "text": [
      "[[-0.62255264 -0.23872965  1.19012616  1.13007865  1.05035893 -1.0164265\n",
      "  -0.62195131 -1.0850645  -1.07226467 -1.08970336 -1.09872337 -0.39507653\n",
      "   0.44550269  1.70229104 -0.34361951  1.27070494 -0.65777364  1.58606174\n",
      "  -0.71137829  1.62196998 -0.49043094 -0.55339922]\n",
      " [-0.92714988 -0.89784342 -0.86853696 -0.86853696 -0.86853696 -0.69269819\n",
      "  -0.92714988 -0.69269819 -0.69269819 -0.69269819 -0.72200465  1.30014122\n",
      "  -0.34102065  1.71043168  0.27441505  1.76904461  0.09857628  0.83123783\n",
      "   1.3880606   0.59678613  1.85696399 -0.63408527]\n",
      " [-0.70660362 -0.63940188 -0.45485693 -0.45920921 -0.47071296 -0.88806993\n",
      "  -0.71286164 -1.27515692 -0.91294343 -1.0103008  -1.2982752   1.83461915\n",
      "   0.03761051  0.33395792  0.38873507  0.86475742  0.34200976  1.11745696\n",
      "   1.92564338 -0.18233944  2.12210707  0.04383475]\n",
      " [-1.15545661 -1.10291798 -0.549924   -0.62613146 -0.62036494 -0.79182449\n",
      "  -1.16145774 -0.99497145 -0.81169328 -0.92685929 -1.02521826  1.55492032\n",
      "   0.48301885  0.60911653  0.30161     1.30277923  0.41435173  1.45710439\n",
      "   1.59749148  0.20703305  1.76898502  0.07040891]\n",
      " [-1.20385354 -1.1086848  -0.36704934 -0.46767924 -0.49131911 -0.92430252\n",
      "  -1.20951694 -1.07990061 -0.9608854  -1.0528965  -1.08118587  1.34548439\n",
      "   0.87468396  0.82894384  0.24545032  1.58312994  0.38359861  1.67441068\n",
      "   1.14414839  0.51564724  1.2979388   0.05383771]\n",
      " [-1.10839022 -0.91237021  0.07541528 -0.06825808 -0.11372744 -1.13771785\n",
      "  -1.11423971 -1.270942   -1.17494504 -1.2452203  -1.26310259  1.0506653\n",
      "   1.05217206  1.04060759  0.20699838  1.71636109  0.21829605  1.74788782\n",
      "   0.69141321  0.76767188  0.88511592 -0.04369112]\n",
      " [-0.85472628 -0.5365144   0.64782976  0.46348697  0.41446084 -1.34301724\n",
      "  -0.85823751 -1.45066592 -1.3500167  -1.40233893 -1.4540669   0.66683301\n",
      "   1.07099092  1.15235102  0.12625717  1.65191782 -0.01276556  1.66545343\n",
      "   0.23858538  0.92563034  0.47053476 -0.23198199]]\n"
     ]
    }
   ],
   "source": [
    "transpose = np.transpose(test_x_normalized)\n",
    "print(transpose)"
   ]
  },
  {
   "cell_type": "code",
   "execution_count": 403,
   "metadata": {},
   "outputs": [
    {
     "data": {
      "image/png": "[encoded data removed]",
      "text/plain": [
       "<Figure size 432x288 with 1 Axes>"
      ]
     },
     "metadata": {
      "needs_background": "light"
     },
     "output_type": "display_data"
    }
   ],
   "source": [
    "length = len(transpose[0])\n",
    "fig = plt.figure()\n",
    "ax = fig.add_subplot(111, projection='3d')\n",
    "ax.scatter(transpose[0][:int(length/2)], transpose[1][:int(length/2)], transpose[2][:int(length/2)], color='r')\n",
    "ax.scatter(transpose[0][int(length/2):], transpose[1][int(length/2):], transpose[2][int(length/2):], color='b')\n",
    "plt.show()"
   ]
  },
  {
   "cell_type": "code",
   "execution_count": 352,
   "metadata": {},
   "outputs": [
    {
     "name": "stdout",
     "output_type": "stream",
     "text": [
      "0.8545454545454545\n"
     ]
    }
   ],
   "source": [
    "dtr = tree.DecisionTreeRegressor()\n",
    "dtr.fit(train_x, train_y)\n",
    "dtr_pred = dtr.predict(test_x)\n",
    "print(metrics.accuracy_score(test_y, dtr_pred))"
   ]
  },
  {
   "cell_type": "code",
   "execution_count": 127,
   "metadata": {},
   "outputs": [],
   "source": [
    "#deprecated\n",
    "x = []\n",
    "y = []\n",
    "for i in range(10, 400, 10):\n",
    "    rf = RandomForestClassifier(n_estimators=i, criterion='entropy', min_samples_split=10, min_samples_leaf=2)\n",
    "    #rf = RandomForestClassifier(n_estimators=i)\n",
    "    rf.fit(train_x, train_y)\n",
    "    rf_pred = rf.predict(test_x)\n",
    "\n",
    "    x.append(i)\n",
    "    y.append(metrics.accuracy_score(test_y, rf_pred))"
   ]
  },
  {
   "cell_type": "code",
   "execution_count": 122,
   "metadata": {},
   "outputs": [
    {
     "data": {
      "image/png": "[encoded data removed]",
      "text/plain": [
       "<Figure size 432x288 with 1 Axes>"
      ]
     },
     "metadata": {
      "needs_background": "light"
     },
     "output_type": "display_data"
    }
   ],
   "source": [
    "plt.plot(x, y)\n",
    "plt.ylabel('accuracy')\n",
    "plt.xlabel('estimators')\n",
    "plt.title(\"{} Families - Random Forest\".format(len(families)))\n",
    "plt.show()"
   ]
  },
  {
   "cell_type": "code",
   "execution_count": 345,
   "metadata": {},
   "outputs": [
    {
     "name": "stdout",
     "output_type": "stream",
     "text": [
      "0.5194805194805194\n"
     ]
    }
   ],
   "source": []
  },
  {
   "cell_type": "code",
   "execution_count": null,
   "metadata": {},
   "outputs": [],
   "source": [
    "\n"
   ]
  }
 ],
 "metadata": {
  "kernelspec": {
   "display_name": "Python3-TensorFlow2",
   "language": "python",
   "name": "python3-tensorflow2"
  },
  "language_info": {
   "codemirror_mode": {
    "name": "ipython",
    "version": 3
   },
   "file_extension": ".py",
   "mimetype": "text/x-python",
   "name": "python",
   "nbconvert_exporter": "python",
   "pygments_lexer": "ipython3",
   "version": "3.7.6"
  }
 },
 "nbformat": 4,
 "nbformat_minor": 2
}
