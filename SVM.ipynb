{
 "cells": [
  {
   "cell_type": "code",
   "execution_count": 1,
   "metadata": {},
   "outputs": [],
   "source": [
    "import os\n",
    "import re\n",
    "import numpy as np\n",
    "import matplotlib.pyplot as plt\n",
    "from sklearn import svm\n",
    "from sklearn import metrics\n",
    "from sklearn import preprocessing\n",
    "from sklearn.utils import shuffle\n",
    "from sklearn.ensemble import VotingClassifier"
   ]
  },
  {
   "cell_type": "code",
   "execution_count": 2,
   "metadata": {},
   "outputs": [],
   "source": [
    "directory = \"C:\\\\Users\\\\Michael\\\\Desktop\\\\CS 185C\\\\Malware\\\\\""
   ]
  },
  {
   "cell_type": "code",
   "execution_count": 3,
   "metadata": {},
   "outputs": [],
   "source": [
    "def load_samples(file):\n",
    "    file = open(file, 'r')\n",
    "    samples = []\n",
    "    for line in file.readlines():\n",
    "        numbers = np.array(list(map(lambda x : float(x), (re.sub(\"NaN|-Infinity\", \"-7\",line[1:-2])).split(\", \"))))\n",
    "        samples.append(numbers)\n",
    "    file.close()\n",
    "    return np.array(samples)"
   ]
  },
  {
   "cell_type": "code",
   "execution_count": 4,
   "metadata": {},
   "outputs": [],
   "source": [
    "def load_cluster_samples(file):\n",
    "    file = open(file, 'r')\n",
    "    samples = []\n",
    "    for line in file.readlines():\n",
    "        numbers = np.array(list(map(lambda x : float(x), line[:-1].split(\",\"))))\n",
    "        samples.append(numbers)\n",
    "    file.close()\n",
    "    return np.array(samples)"
   ]
  },
  {
   "cell_type": "code",
   "execution_count": 5,
   "metadata": {},
   "outputs": [],
   "source": [
    "def normalize_samples(samples):\n",
    "    scaled_inputs = []\n",
    "    for scores in samples:\n",
    "        scaled_inputs.append(preprocessing.scale(scores))\n",
    "    return np.array(scaled_inputs)\n"
   ]
  },
  {
   "cell_type": "code",
   "execution_count": 6,
   "metadata": {},
   "outputs": [],
   "source": [
    "def balance_samples(scores, labels):\n",
    "    count = 0\n",
    "    for label in labels:\n",
    "        if(label == 1):\n",
    "            count += 1\n",
    "    indicies_to_remove = []\n",
    "    label_counter = 0\n",
    "    \n",
    "    for i in range(labels.shape[0]):\n",
    "        if(labels[i] == -1):\n",
    "            label_counter += 1\n",
    "            if(label_counter > count):\n",
    "                indicies_to_remove.append(i)\n",
    "    scores = np.delete(scores, indicies_to_remove, axis=0)\n",
    "    labels = np.delete(labels, indicies_to_remove, axis=0)\n",
    "    \n",
    "    return scores, labels"
   ]
  },
  {
   "cell_type": "code",
   "execution_count": 7,
   "metadata": {},
   "outputs": [],
   "source": [
    "def run_SVM(training_scores, training_labels, degree):\n",
    "    #print(unbalanced_training_scores.shape[1])\n",
    "    \"\"\"\"\n",
    "    training_scores, training_labels = shuffle(training_scores, training_labels)\n",
    "    training_scores, training_labels = balance_samples(training_scores, training_labels)\n",
    "    model = svm.SVC(kernel='poly', degree=degree, verbose=False)\n",
    "    \"\"\"\n",
    "    \n",
    "    model = svm.SVC(kernel='poly', degree=degree, verbose=False, decision_function_shape='ova')\n",
    "    model.fit(training_scores, training_labels)\n",
    "    predict = model.predict(training_scores)\n",
    "    return metrics.accuracy_score(training_labels, predict), model"
   ]
  },
  {
   "cell_type": "code",
   "execution_count": 8,
   "metadata": {},
   "outputs": [],
   "source": [
    "def remove_families(numbers, samples):\n",
    "    samples_per_family = int(samples.shape[0] / 7)\n",
    "    array = np.reshape(samples, (7, samples_per_family, 7, 9), order='C')#family, samples per family, families, model\n",
    "    array = np.delete(array, numbers, 0)\n",
    "    array = np.delete(array, numbers, 2)\n",
    "    return np.reshape(array, (array.shape[0] * array.shape[1], array.shape[2]*array.shape[3]), order='C')"
   ]
  },
  {
   "cell_type": "code",
   "execution_count": 29,
   "metadata": {},
   "outputs": [],
   "source": [
    "def subtract_lists(a, b):\n",
    "    difference = []\n",
    "    for element in a:\n",
    "        if element not in b:\n",
    "            difference.append(element)\n",
    "    return difference"
   ]
  },
  {
   "cell_type": "code",
   "execution_count": 58,
   "metadata": {},
   "outputs": [
    {
     "name": "stdout",
     "output_type": "stream",
     "text": [
      "['harebot', 'cridex', 'securityShield', 'smarthdd', 'zbot', 'winwebsec', 'zeroaccess']\n"
     ]
    }
   ],
   "source": [
    "all_families = [\"harebot\", \"cridex\", \"securityShield\", \"smarthdd\", \"zbot\", \"winwebsec\", \"zeroaccess\"]\n",
    "families_to_remove = []\n",
    "families = subtract_lists(all_families, np.array(all_families)[families_to_remove])\n",
    "#families = list(set(all_families) - set(np.array(all_families)[families_to_remove]))\n",
    "print(families)"
   ]
  },
  {
   "cell_type": "code",
   "execution_count": 63,
   "metadata": {},
   "outputs": [
    {
     "name": "stdout",
     "output_type": "stream",
     "text": [
      "(294, 65)\n"
     ]
    }
   ],
   "source": [
    "#\"\"\"\"\n",
    "all_training = np.empty(shape=(294,0))\n",
    "all_testing = np.empty(shape=(77,0))\n",
    "\n",
    "training_labels = []\n",
    "testing_labels = []\n",
    "\n",
    "\n",
    "for family in set(all_families):\n",
    "    training = load_samples(directory + \"training scores\\\\{family} scores.txt\".format(family=family))[:,1:]\n",
    "    testing = load_samples(directory + \"testing scores\\\\{family} scores.txt\".format(family=family))[:,1:]\n",
    "    \n",
    "    all_training = np.concatenate((all_training, training), axis=1)\n",
    "    all_testing = np.concatenate((all_testing, testing), axis=1)\n",
    "\n",
    "training_scores = remove_families(families_to_remove, all_training)\n",
    "testing_scores = remove_families(families_to_remove, all_testing)\n",
    "\n",
    "#training_scores = normalize_samples(training_scores)\n",
    "#testing_scores = normalize_samples(testing_scores)\n",
    "\n",
    "\n",
    "####\n",
    "cluster_training = load_cluster_samples(directory + \"clustering\\\\output\\\\{} families train.txt\". format(len(families)))\n",
    "cluster_testing = load_cluster_samples(directory + \"clustering\\\\output\\\\{} families test.txt\". format(len(families)))\n",
    "\n",
    "training_scores = normalize_samples(np.concatenate((training_scores, cluster_training), axis=1))\n",
    "testing_scores = normalize_samples(np.concatenate((testing_scores, cluster_testing), axis=1))\n",
    "####\n",
    "\n",
    "\n",
    "for i in range(len(families)):\n",
    "    num_train_samples = (int) (len(training_scores) / len(families))\n",
    "    num_testing_samples = (int) (len(testing_scores) / len (families))\n",
    "    for j in range(42):\n",
    "        training_labels.append(i)\n",
    "    for j in range(11):\n",
    "        testing_labels.append(i)\n",
    "print(training_scores.shape)\n",
    "#\"\"\"\""
   ]
  },
  {
   "cell_type": "code",
   "execution_count": 64,
   "metadata": {},
   "outputs": [
    {
     "name": "stdout",
     "output_type": "stream",
     "text": [
      "1 0.8441558441558441\n",
      "2 0.8571428571428571\n",
      "3 0.8701298701298701\n",
      "4 0.8701298701298701\n",
      "5 0.8571428571428571\n",
      "6 0.8961038961038961\n",
      "7 0.8961038961038961\n",
      "8 0.8961038961038961\n",
      "9 0.8831168831168831\n",
      "10 0.8701298701298701\n",
      "11 0.8441558441558441\n",
      "12 0.8311688311688312\n",
      "13 0.8181818181818182\n",
      "14 0.8181818181818182\n",
      "15 0.8181818181818182\n",
      "16 0.8181818181818182\n",
      "17 0.8051948051948052\n",
      "18 0.8051948051948052\n",
      "19 0.8051948051948052\n",
      "20 0.8051948051948052\n",
      "21 0.8051948051948052\n",
      "22 0.8051948051948052\n",
      "23 0.8051948051948052\n",
      "24 0.7922077922077922\n",
      "25 0.7792207792207793\n",
      "26 0.7792207792207793\n",
      "27 0.7792207792207793\n",
      "28 0.7792207792207793\n",
      "29 0.7792207792207793\n",
      "30 0.7662337662337663\n",
      "31 0.7532467532467533\n",
      "32 0.7532467532467533\n",
      "33 0.7662337662337663\n",
      "34 0.7662337662337663\n",
      "35 0.7402597402597403\n",
      "36 0.7402597402597403\n",
      "37 0.7402597402597403\n",
      "38 0.7402597402597403\n",
      "39 0.7402597402597403\n",
      "40 0.7402597402597403\n",
      "41 0.7272727272727273\n",
      "42 0.7272727272727273\n",
      "43 0.7272727272727273\n",
      "44 0.7272727272727273\n",
      "45 0.7142857142857143\n",
      "46 0.7142857142857143\n",
      "47 0.7142857142857143\n",
      "48 0.7142857142857143\n",
      "49 0.7142857142857143\n"
     ]
    }
   ],
   "source": [
    "x_val = []\n",
    "y_val = []\n",
    "for degree in range(1, 50, 1):\n",
    "    accuracy, model = run_SVM(training_scores,training_labels,degree)\n",
    "\n",
    "    predict = model.predict(testing_scores)\n",
    "    accuracy = metrics.accuracy_score(testing_labels, predict)\n",
    "    x_val.append(degree)\n",
    "    y_val.append(accuracy)\n",
    "    print(degree, accuracy)"
   ]
  },
  {
   "cell_type": "code",
   "execution_count": 65,
   "metadata": {},
   "outputs": [
    {
     "data": {
      "image/png": "[encoded data removed]",
      "text/plain": [
       "<Figure size 432x288 with 1 Axes>"
      ]
     },
     "metadata": {
      "needs_background": "light"
     },
     "output_type": "display_data"
    }
   ],
   "source": [
    "plt.plot(x_val, y_val)\n",
    "plt.ylabel('accuracy')\n",
    "plt.xlabel('polynomial degree')\n",
    "plt.title(\"{} Families - Stacking {} Models\".format(len(families), 2 + (int) (training_scores.shape[1]/len(families))))\n",
    "plt.show()"
   ]
  },
  {
   "cell_type": "code",
   "execution_count": 67,
   "metadata": {},
   "outputs": [
    {
     "name": "stdout",
     "output_type": "stream",
     "text": [
      "[0, 0, 0, 0, 0, 0, 0, 0, 0, 0, 0, 1, 1, 1, 1, 1, 1, 1, 1, 1, 1, 1, 2, 2, 2, 2, 2, 2, 2, 2, 2, 2, 2, 3, 3, 3, 3, 3, 3, 3, 3, 3, 3, 3, 4, 4, 4, 4, 4, 4, 4, 4, 4, 4, 4, 5, 5, 5, 5, 5, 5, 5, 5, 5, 5, 5, 6, 6, 6, 6, 6, 6, 6, 6, 6, 6, 6]\n",
      "harebot\n",
      "cridex\n",
      "securityShield\n",
      "smarthdd\n",
      "zbot\n",
      "winwebsec\n",
      "zeroaccess\n",
      "[[11  3  0  0  0  0  0]\n",
      " [ 0  8  0  0  3  0  0]\n",
      " [ 0  0 11  0  1  1  0]\n",
      " [ 0  0  0 11  0  0  0]\n",
      " [ 0  0  0  0  7  0  0]\n",
      " [ 0  0  0  0  0 10  0]\n",
      " [ 0  0  0  0  0  0 11]]\n",
      "11\n",
      "0\n",
      "0\n",
      "0\n",
      "0\n",
      "0\n",
      "0\n",
      "\n",
      "3\n",
      "8\n",
      "0\n",
      "0\n",
      "0\n",
      "0\n",
      "0\n",
      "\n",
      "0\n",
      "0\n",
      "11\n",
      "0\n",
      "0\n",
      "0\n",
      "0\n",
      "\n",
      "0\n",
      "0\n",
      "0\n",
      "11\n",
      "0\n",
      "0\n",
      "0\n",
      "\n",
      "0\n",
      "3\n",
      "1\n",
      "0\n",
      "7\n",
      "0\n",
      "0\n",
      "\n",
      "0\n",
      "0\n",
      "1\n",
      "0\n",
      "0\n",
      "10\n",
      "0\n",
      "\n",
      "0\n",
      "0\n",
      "0\n",
      "0\n",
      "0\n",
      "0\n",
      "11\n",
      "\n"
     ]
    }
   ],
   "source": [
    "accuracy, model = run_SVM(training_scores,training_labels,8)\n",
    "predict = model.predict(testing_scores)\n",
    "confusion_matrix = metrics.confusion_matrix(predict, testing_labels)\n",
    "print(testing_labels)\n",
    "for family in families:\n",
    "    print(family)\n",
    "print(confusion_matrix)\n",
    "print('\\n'.join([''.join(['{}\\n'.format(item) for item in row]) \n",
    "      for row in np.transpose(confusion_matrix)]))"
   ]
  },
  {
   "cell_type": "code",
   "execution_count": 68,
   "metadata": {},
   "outputs": [],
   "source": [
    "accuracy, model = run_SVM(training_scores,training_labels,8)\n",
    "predict_training = model.predict(training_scores)\n",
    "predict_testing = model.predict(testing_scores)\n",
    "\n",
    "combined_training = np.concatenate((cluster_training, np.reshape(predict_training, (len(predict_training), 1))), axis=1)\n",
    "combined_testing = np.concatenate((cluster_testing, np.reshape(predict_testing, (len(predict_testing), 1))), axis=1)\n"
   ]
  },
  {
   "cell_type": "code",
   "execution_count": 47,
   "metadata": {},
   "outputs": [
    {
     "name": "stdout",
     "output_type": "stream",
     "text": [
      "0.14285714285714285\n",
      "0.5584415584415584\n",
      "0.6233766233766234\n",
      "0.6103896103896104\n",
      "0.6363636363636364\n",
      "0.5324675324675324\n",
      "0.4805194805194805\n",
      "0.45454545454545453\n",
      "0.4675324675324675\n",
      "0.45454545454545453\n",
      "0.45454545454545453\n",
      "0.4025974025974026\n",
      "0.38961038961038963\n",
      "0.38961038961038963\n",
      "0.38961038961038963\n",
      "0.38961038961038963\n",
      "0.38961038961038963\n",
      "0.38961038961038963\n",
      "0.38961038961038963\n",
      "0.38961038961038963\n",
      "0.38961038961038963\n",
      "0.38961038961038963\n",
      "0.38961038961038963\n",
      "0.38961038961038963\n",
      "0.38961038961038963\n",
      "0.38961038961038963\n",
      "0.38961038961038963\n",
      "0.38961038961038963\n",
      "0.38961038961038963\n",
      "0.38961038961038963\n"
     ]
    }
   ],
   "source": [
    "for degree in range(30):\n",
    "    final_svm = svm.SVC(kernel='poly', degree=degree, verbose=False, decision_function_shape='ovo')\n",
    "    final_svm.fit(combined_training, training_labels)\n",
    "    final = final_svm.predict(combined_testing)\n",
    "    print(metrics.accuracy_score(testing_labels, final))"
   ]
  },
  {
   "cell_type": "code",
   "execution_count": null,
   "metadata": {},
   "outputs": [],
   "source": []
  },
  {
   "cell_type": "code",
   "execution_count": null,
   "metadata": {},
   "outputs": [],
   "source": []
  },
  {
   "cell_type": "code",
   "execution_count": 17,
   "metadata": {},
   "outputs": [],
   "source": []
  },
  {
   "cell_type": "code",
   "execution_count": null,
   "metadata": {},
   "outputs": [],
   "source": []
  }
 ],
 "metadata": {
  "kernelspec": {
   "display_name": "Python3-TensorFlow2",
   "language": "python",
   "name": "python3-tensorflow2"
  },
  "language_info": {
   "codemirror_mode": {
    "name": "ipython",
    "version": 3
   },
   "file_extension": ".py",
   "mimetype": "text/x-python",
   "name": "python",
   "nbconvert_exporter": "python",
   "pygments_lexer": "ipython3",
   "version": "3.7.6"
  }
 },
 "nbformat": 4,
 "nbformat_minor": 2
}
